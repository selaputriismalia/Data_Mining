{
  "nbformat": 4,
  "nbformat_minor": 0,
  "metadata": {
    "colab": {
      "provenance": []
    },
    "kernelspec": {
      "name": "python3",
      "display_name": "Python 3"
    },
    "language_info": {
      "name": "python"
    }
  },
  "cells": [
    {
      "cell_type": "markdown",
      "source": [
        "#**Anime Rating Analysis & Recommender System**"
      ],
      "metadata": {
        "id": "aSEDW6ivcbRC"
      }
    },
    {
      "cell_type": "code",
      "execution_count": 51,
      "metadata": {
        "id": "iFFlgosIZ5j_"
      },
      "outputs": [],
      "source": [
        "import pandas as pd\n",
        "import matplotlib.pyplot as plt\n",
        "# import plotly as pd\n",
        "import numpy as np\n",
        "import seaborn as sns\n",
        "from pprint import pprint\n",
        "from tabulate import tabulate"
      ]
    },
    {
      "cell_type": "markdown",
      "source": [
        "#**Business Understanding**\n",
        "##**Tujuan Bisnis**\n",
        "Tujuan proyek ini adalah untuk menganalisis data rating anime dan mengembangkan sistem rekomendasi untuk memberikan rekomendasi yang baik untuk pengguna berdasarkan kesukaan mereka. Dengan demikian, diharapkan dapat meningkatkan pengalaman pengguna dalam menemukan anime yang sesuai dengan selera mereka.\n",
        "\n",
        "\n",
        "##**Assess Situation**\n",
        "Situasi bisnis yang mendasari proyek ini adalah:\n",
        "\n",
        "1. Kebutuhan akan sistem yang dapat membantu memberikan rekomendasi yang sesuai dengan selera mereka\n",
        "2. Meningkatkan interaksi pengguna dengan platform anime.\n",
        "3. Kurangnya pemahaman selera unik setiap pengguna, maka terdapat keaadan yang dimana rekomendasinya kurang tepat\n",
        "\n",
        "\n",
        "##**Data Mining Goals**\n",
        "Tujuan dari analisis data pada dataset ini adalah :\n",
        "\n",
        "\n",
        "1. Mengembangkan sistem rekomendasi yang dapat memberikan rekomendasi anime yang sesuai dengan selera pengguna.\n",
        "2.   Memprediksi rating anime berdasarkan faktor-faktor tertentu\n",
        "3. mengidentifikasi tren dan pola dalam data rating\n",
        "\n",
        "\n",
        "##**Projek Plan**\n",
        "Pertama-tama dimulai dengan pengumpulan data rating anime dari sumber yang tersedia. Selanjutnya, data akan dijelaskan karakteristiknya dan pola-pola yang menarik untuk di itentifikasi. kemudian mendeskripsikan data yang akan di identifikasi seperti contoh \"ID anime, nama, genre, jenis, episode, rating\", lalu menilai kualitas data dan masalah data yang akan diidentifikasi."
      ],
      "metadata": {
        "id": "6sEEFfFfbV0P"
      }
    },
    {
      "cell_type": "markdown",
      "source": [
        "#**Data Understanding**"
      ],
      "metadata": {
        "id": "wPU3vI-pvium"
      }
    },
    {
      "cell_type": "markdown",
      "source": [
        "##**Collect Initial Data**"
      ],
      "metadata": {
        "id": "7SSmFIFbyq-6"
      }
    },
    {
      "cell_type": "code",
      "source": [
        "Data_URL = 'https://raw.githubusercontent.com/selaputriismalia/Data_Mining/main/anime.csv'"
      ],
      "metadata": {
        "id": "rT6gXeU7ujFv"
      },
      "execution_count": 85,
      "outputs": []
    },
    {
      "cell_type": "code",
      "source": [
        "data = pd.read_csv(Data_URL, on_bad_lines='skip')"
      ],
      "metadata": {
        "id": "eSJgZTp-sYH7"
      },
      "execution_count": 87,
      "outputs": []
    },
    {
      "cell_type": "code",
      "source": [
        "data = pd.read_csv(\"anime.csv\")"
      ],
      "metadata": {
        "id": "uBoqhKA5dNoU"
      },
      "execution_count": 65,
      "outputs": []
    },
    {
      "cell_type": "code",
      "source": [
        "data.head()"
      ],
      "metadata": {
        "colab": {
          "base_uri": "https://localhost:8080/",
          "height": 206
        },
        "id": "RVsVd4g6dW1n",
        "outputId": "044599bf-d0ba-4ffb-f9f0-34270c1a9420"
      },
      "execution_count": 17,
      "outputs": [
        {
          "output_type": "execute_result",
          "data": {
            "text/plain": [
              "   anime_id                              name  \\\n",
              "0     32281                    Kimi no Na wa.   \n",
              "1      5114  Fullmetal Alchemist: Brotherhood   \n",
              "2     28977                          Gintama°   \n",
              "3      9253                       Steins;Gate   \n",
              "4      9969                     Gintama&#039;   \n",
              "\n",
              "                                               genre   type episodes  rating  \\\n",
              "0               Drama, Romance, School, Supernatural  Movie        1    9.37   \n",
              "1  Action, Adventure, Drama, Fantasy, Magic, Mili...     TV       64    9.26   \n",
              "2  Action, Comedy, Historical, Parody, Samurai, S...     TV       51    9.25   \n",
              "3                                   Sci-Fi, Thriller     TV       24    9.17   \n",
              "4  Action, Comedy, Historical, Parody, Samurai, S...     TV       51    9.16   \n",
              "\n",
              "   members  \n",
              "0   200630  \n",
              "1   793665  \n",
              "2   114262  \n",
              "3   673572  \n",
              "4   151266  "
            ],
            "text/html": [
              "\n",
              "  <div id=\"df-2a041c40-68d9-4445-82e2-75a374b65a03\" class=\"colab-df-container\">\n",
              "    <div>\n",
              "<style scoped>\n",
              "    .dataframe tbody tr th:only-of-type {\n",
              "        vertical-align: middle;\n",
              "    }\n",
              "\n",
              "    .dataframe tbody tr th {\n",
              "        vertical-align: top;\n",
              "    }\n",
              "\n",
              "    .dataframe thead th {\n",
              "        text-align: right;\n",
              "    }\n",
              "</style>\n",
              "<table border=\"1\" class=\"dataframe\">\n",
              "  <thead>\n",
              "    <tr style=\"text-align: right;\">\n",
              "      <th></th>\n",
              "      <th>anime_id</th>\n",
              "      <th>name</th>\n",
              "      <th>genre</th>\n",
              "      <th>type</th>\n",
              "      <th>episodes</th>\n",
              "      <th>rating</th>\n",
              "      <th>members</th>\n",
              "    </tr>\n",
              "  </thead>\n",
              "  <tbody>\n",
              "    <tr>\n",
              "      <th>0</th>\n",
              "      <td>32281</td>\n",
              "      <td>Kimi no Na wa.</td>\n",
              "      <td>Drama, Romance, School, Supernatural</td>\n",
              "      <td>Movie</td>\n",
              "      <td>1</td>\n",
              "      <td>9.37</td>\n",
              "      <td>200630</td>\n",
              "    </tr>\n",
              "    <tr>\n",
              "      <th>1</th>\n",
              "      <td>5114</td>\n",
              "      <td>Fullmetal Alchemist: Brotherhood</td>\n",
              "      <td>Action, Adventure, Drama, Fantasy, Magic, Mili...</td>\n",
              "      <td>TV</td>\n",
              "      <td>64</td>\n",
              "      <td>9.26</td>\n",
              "      <td>793665</td>\n",
              "    </tr>\n",
              "    <tr>\n",
              "      <th>2</th>\n",
              "      <td>28977</td>\n",
              "      <td>Gintama°</td>\n",
              "      <td>Action, Comedy, Historical, Parody, Samurai, S...</td>\n",
              "      <td>TV</td>\n",
              "      <td>51</td>\n",
              "      <td>9.25</td>\n",
              "      <td>114262</td>\n",
              "    </tr>\n",
              "    <tr>\n",
              "      <th>3</th>\n",
              "      <td>9253</td>\n",
              "      <td>Steins;Gate</td>\n",
              "      <td>Sci-Fi, Thriller</td>\n",
              "      <td>TV</td>\n",
              "      <td>24</td>\n",
              "      <td>9.17</td>\n",
              "      <td>673572</td>\n",
              "    </tr>\n",
              "    <tr>\n",
              "      <th>4</th>\n",
              "      <td>9969</td>\n",
              "      <td>Gintama&amp;#039;</td>\n",
              "      <td>Action, Comedy, Historical, Parody, Samurai, S...</td>\n",
              "      <td>TV</td>\n",
              "      <td>51</td>\n",
              "      <td>9.16</td>\n",
              "      <td>151266</td>\n",
              "    </tr>\n",
              "  </tbody>\n",
              "</table>\n",
              "</div>\n",
              "    <div class=\"colab-df-buttons\">\n",
              "\n",
              "  <div class=\"colab-df-container\">\n",
              "    <button class=\"colab-df-convert\" onclick=\"convertToInteractive('df-2a041c40-68d9-4445-82e2-75a374b65a03')\"\n",
              "            title=\"Convert this dataframe to an interactive table.\"\n",
              "            style=\"display:none;\">\n",
              "\n",
              "  <svg xmlns=\"http://www.w3.org/2000/svg\" height=\"24px\" viewBox=\"0 -960 960 960\">\n",
              "    <path d=\"M120-120v-720h720v720H120Zm60-500h600v-160H180v160Zm220 220h160v-160H400v160Zm0 220h160v-160H400v160ZM180-400h160v-160H180v160Zm440 0h160v-160H620v160ZM180-180h160v-160H180v160Zm440 0h160v-160H620v160Z\"/>\n",
              "  </svg>\n",
              "    </button>\n",
              "\n",
              "  <style>\n",
              "    .colab-df-container {\n",
              "      display:flex;\n",
              "      gap: 12px;\n",
              "    }\n",
              "\n",
              "    .colab-df-convert {\n",
              "      background-color: #E8F0FE;\n",
              "      border: none;\n",
              "      border-radius: 50%;\n",
              "      cursor: pointer;\n",
              "      display: none;\n",
              "      fill: #1967D2;\n",
              "      height: 32px;\n",
              "      padding: 0 0 0 0;\n",
              "      width: 32px;\n",
              "    }\n",
              "\n",
              "    .colab-df-convert:hover {\n",
              "      background-color: #E2EBFA;\n",
              "      box-shadow: 0px 1px 2px rgba(60, 64, 67, 0.3), 0px 1px 3px 1px rgba(60, 64, 67, 0.15);\n",
              "      fill: #174EA6;\n",
              "    }\n",
              "\n",
              "    .colab-df-buttons div {\n",
              "      margin-bottom: 4px;\n",
              "    }\n",
              "\n",
              "    [theme=dark] .colab-df-convert {\n",
              "      background-color: #3B4455;\n",
              "      fill: #D2E3FC;\n",
              "    }\n",
              "\n",
              "    [theme=dark] .colab-df-convert:hover {\n",
              "      background-color: #434B5C;\n",
              "      box-shadow: 0px 1px 3px 1px rgba(0, 0, 0, 0.15);\n",
              "      filter: drop-shadow(0px 1px 2px rgba(0, 0, 0, 0.3));\n",
              "      fill: #FFFFFF;\n",
              "    }\n",
              "  </style>\n",
              "\n",
              "    <script>\n",
              "      const buttonEl =\n",
              "        document.querySelector('#df-2a041c40-68d9-4445-82e2-75a374b65a03 button.colab-df-convert');\n",
              "      buttonEl.style.display =\n",
              "        google.colab.kernel.accessAllowed ? 'block' : 'none';\n",
              "\n",
              "      async function convertToInteractive(key) {\n",
              "        const element = document.querySelector('#df-2a041c40-68d9-4445-82e2-75a374b65a03');\n",
              "        const dataTable =\n",
              "          await google.colab.kernel.invokeFunction('convertToInteractive',\n",
              "                                                    [key], {});\n",
              "        if (!dataTable) return;\n",
              "\n",
              "        const docLinkHtml = 'Like what you see? Visit the ' +\n",
              "          '<a target=\"_blank\" href=https://colab.research.google.com/notebooks/data_table.ipynb>data table notebook</a>'\n",
              "          + ' to learn more about interactive tables.';\n",
              "        element.innerHTML = '';\n",
              "        dataTable['output_type'] = 'display_data';\n",
              "        await google.colab.output.renderOutput(dataTable, element);\n",
              "        const docLink = document.createElement('div');\n",
              "        docLink.innerHTML = docLinkHtml;\n",
              "        element.appendChild(docLink);\n",
              "      }\n",
              "    </script>\n",
              "  </div>\n",
              "\n",
              "\n",
              "<div id=\"df-1f42c3b8-8885-4cff-9e11-202d4f34e965\">\n",
              "  <button class=\"colab-df-quickchart\" onclick=\"quickchart('df-1f42c3b8-8885-4cff-9e11-202d4f34e965')\"\n",
              "            title=\"Suggest charts\"\n",
              "            style=\"display:none;\">\n",
              "\n",
              "<svg xmlns=\"http://www.w3.org/2000/svg\" height=\"24px\"viewBox=\"0 0 24 24\"\n",
              "     width=\"24px\">\n",
              "    <g>\n",
              "        <path d=\"M19 3H5c-1.1 0-2 .9-2 2v14c0 1.1.9 2 2 2h14c1.1 0 2-.9 2-2V5c0-1.1-.9-2-2-2zM9 17H7v-7h2v7zm4 0h-2V7h2v10zm4 0h-2v-4h2v4z\"/>\n",
              "    </g>\n",
              "</svg>\n",
              "  </button>\n",
              "\n",
              "<style>\n",
              "  .colab-df-quickchart {\n",
              "      --bg-color: #E8F0FE;\n",
              "      --fill-color: #1967D2;\n",
              "      --hover-bg-color: #E2EBFA;\n",
              "      --hover-fill-color: #174EA6;\n",
              "      --disabled-fill-color: #AAA;\n",
              "      --disabled-bg-color: #DDD;\n",
              "  }\n",
              "\n",
              "  [theme=dark] .colab-df-quickchart {\n",
              "      --bg-color: #3B4455;\n",
              "      --fill-color: #D2E3FC;\n",
              "      --hover-bg-color: #434B5C;\n",
              "      --hover-fill-color: #FFFFFF;\n",
              "      --disabled-bg-color: #3B4455;\n",
              "      --disabled-fill-color: #666;\n",
              "  }\n",
              "\n",
              "  .colab-df-quickchart {\n",
              "    background-color: var(--bg-color);\n",
              "    border: none;\n",
              "    border-radius: 50%;\n",
              "    cursor: pointer;\n",
              "    display: none;\n",
              "    fill: var(--fill-color);\n",
              "    height: 32px;\n",
              "    padding: 0;\n",
              "    width: 32px;\n",
              "  }\n",
              "\n",
              "  .colab-df-quickchart:hover {\n",
              "    background-color: var(--hover-bg-color);\n",
              "    box-shadow: 0 1px 2px rgba(60, 64, 67, 0.3), 0 1px 3px 1px rgba(60, 64, 67, 0.15);\n",
              "    fill: var(--button-hover-fill-color);\n",
              "  }\n",
              "\n",
              "  .colab-df-quickchart-complete:disabled,\n",
              "  .colab-df-quickchart-complete:disabled:hover {\n",
              "    background-color: var(--disabled-bg-color);\n",
              "    fill: var(--disabled-fill-color);\n",
              "    box-shadow: none;\n",
              "  }\n",
              "\n",
              "  .colab-df-spinner {\n",
              "    border: 2px solid var(--fill-color);\n",
              "    border-color: transparent;\n",
              "    border-bottom-color: var(--fill-color);\n",
              "    animation:\n",
              "      spin 1s steps(1) infinite;\n",
              "  }\n",
              "\n",
              "  @keyframes spin {\n",
              "    0% {\n",
              "      border-color: transparent;\n",
              "      border-bottom-color: var(--fill-color);\n",
              "      border-left-color: var(--fill-color);\n",
              "    }\n",
              "    20% {\n",
              "      border-color: transparent;\n",
              "      border-left-color: var(--fill-color);\n",
              "      border-top-color: var(--fill-color);\n",
              "    }\n",
              "    30% {\n",
              "      border-color: transparent;\n",
              "      border-left-color: var(--fill-color);\n",
              "      border-top-color: var(--fill-color);\n",
              "      border-right-color: var(--fill-color);\n",
              "    }\n",
              "    40% {\n",
              "      border-color: transparent;\n",
              "      border-right-color: var(--fill-color);\n",
              "      border-top-color: var(--fill-color);\n",
              "    }\n",
              "    60% {\n",
              "      border-color: transparent;\n",
              "      border-right-color: var(--fill-color);\n",
              "    }\n",
              "    80% {\n",
              "      border-color: transparent;\n",
              "      border-right-color: var(--fill-color);\n",
              "      border-bottom-color: var(--fill-color);\n",
              "    }\n",
              "    90% {\n",
              "      border-color: transparent;\n",
              "      border-bottom-color: var(--fill-color);\n",
              "    }\n",
              "  }\n",
              "</style>\n",
              "\n",
              "  <script>\n",
              "    async function quickchart(key) {\n",
              "      const quickchartButtonEl =\n",
              "        document.querySelector('#' + key + ' button');\n",
              "      quickchartButtonEl.disabled = true;  // To prevent multiple clicks.\n",
              "      quickchartButtonEl.classList.add('colab-df-spinner');\n",
              "      try {\n",
              "        const charts = await google.colab.kernel.invokeFunction(\n",
              "            'suggestCharts', [key], {});\n",
              "      } catch (error) {\n",
              "        console.error('Error during call to suggestCharts:', error);\n",
              "      }\n",
              "      quickchartButtonEl.classList.remove('colab-df-spinner');\n",
              "      quickchartButtonEl.classList.add('colab-df-quickchart-complete');\n",
              "    }\n",
              "    (() => {\n",
              "      let quickchartButtonEl =\n",
              "        document.querySelector('#df-1f42c3b8-8885-4cff-9e11-202d4f34e965 button');\n",
              "      quickchartButtonEl.style.display =\n",
              "        google.colab.kernel.accessAllowed ? 'block' : 'none';\n",
              "    })();\n",
              "  </script>\n",
              "</div>\n",
              "    </div>\n",
              "  </div>\n"
            ],
            "application/vnd.google.colaboratory.intrinsic+json": {
              "type": "dataframe",
              "variable_name": "data",
              "summary": "{\n  \"name\": \"data\",\n  \"rows\": 12294,\n  \"fields\": [\n    {\n      \"column\": \"anime_id\",\n      \"properties\": {\n        \"dtype\": \"number\",\n        \"std\": 11455,\n        \"min\": 1,\n        \"max\": 34527,\n        \"num_unique_values\": 12294,\n        \"samples\": [\n          17209,\n          173,\n          3616\n        ],\n        \"semantic_type\": \"\",\n        \"description\": \"\"\n      }\n    },\n    {\n      \"column\": \"name\",\n      \"properties\": {\n        \"dtype\": \"string\",\n        \"num_unique_values\": 12292,\n        \"samples\": [\n          \"Nils no Fushigi na Tabi (Movie)\",\n          \"Tactics\",\n          \"Kamen no Maid Guy\"\n        ],\n        \"semantic_type\": \"\",\n        \"description\": \"\"\n      }\n    },\n    {\n      \"column\": \"genre\",\n      \"properties\": {\n        \"dtype\": \"category\",\n        \"num_unique_values\": 3264,\n        \"samples\": [\n          \"Horror, Supernatural\",\n          \"Action, Adventure, Comedy, Demons, Fantasy, Magic, Romance, Shounen, Supernatural\",\n          \"Action, Comedy, Harem, Parody, Romance\"\n        ],\n        \"semantic_type\": \"\",\n        \"description\": \"\"\n      }\n    },\n    {\n      \"column\": \"type\",\n      \"properties\": {\n        \"dtype\": \"category\",\n        \"num_unique_values\": 6,\n        \"samples\": [\n          \"Movie\",\n          \"TV\",\n          \"ONA\"\n        ],\n        \"semantic_type\": \"\",\n        \"description\": \"\"\n      }\n    },\n    {\n      \"column\": \"episodes\",\n      \"properties\": {\n        \"dtype\": \"category\",\n        \"num_unique_values\": 187,\n        \"samples\": [\n          \"141\",\n          \"54\",\n          \"52\"\n        ],\n        \"semantic_type\": \"\",\n        \"description\": \"\"\n      }\n    },\n    {\n      \"column\": \"rating\",\n      \"properties\": {\n        \"dtype\": \"number\",\n        \"std\": 1.0267463068980571,\n        \"min\": 1.67,\n        \"max\": 10.0,\n        \"num_unique_values\": 598,\n        \"samples\": [\n          7.87,\n          6.11,\n          4.1\n        ],\n        \"semantic_type\": \"\",\n        \"description\": \"\"\n      }\n    },\n    {\n      \"column\": \"members\",\n      \"properties\": {\n        \"dtype\": \"number\",\n        \"std\": 54820,\n        \"min\": 5,\n        \"max\": 1013917,\n        \"num_unique_values\": 6706,\n        \"samples\": [\n          170754,\n          1515,\n          66376\n        ],\n        \"semantic_type\": \"\",\n        \"description\": \"\"\n      }\n    }\n  ]\n}"
            }
          },
          "metadata": {},
          "execution_count": 17
        }
      ]
    },
    {
      "cell_type": "markdown",
      "source": [
        "##**Describe Data**"
      ],
      "metadata": {
        "id": "Yq0R2jO4worh"
      }
    },
    {
      "cell_type": "markdown",
      "source": [
        "###Informasi Dasar"
      ],
      "metadata": {
        "id": "-551HZIN6G_q"
      }
    },
    {
      "cell_type": "code",
      "source": [
        "print(\"Baris :\",data.shape[0])\n",
        "print(\"Kolom :\",data.shape[1])"
      ],
      "metadata": {
        "colab": {
          "base_uri": "https://localhost:8080/"
        },
        "id": "v8M6v0giduFB",
        "outputId": "56983f04-bcc2-4938-fd90-3991fb1cdbed"
      },
      "execution_count": 18,
      "outputs": [
        {
          "output_type": "stream",
          "name": "stdout",
          "text": [
            "Baris : 12294\n",
            "Kolom : 7\n"
          ]
        }
      ]
    },
    {
      "cell_type": "markdown",
      "source": [
        "Pada Dataset yang tersedia total Baris adalah 12294 dengan total kolom 7"
      ],
      "metadata": {
        "id": "DTouGzgr407g"
      }
    },
    {
      "cell_type": "markdown",
      "source": [
        "###informasi Lanjut"
      ],
      "metadata": {
        "id": "5_Lif3Um6YFE"
      }
    },
    {
      "cell_type": "code",
      "source": [
        "data.info()"
      ],
      "metadata": {
        "colab": {
          "base_uri": "https://localhost:8080/"
        },
        "id": "yNKh2_RW6sAK",
        "outputId": "77aa78bd-d363-4003-da89-899ceb8ce4d6"
      },
      "execution_count": 19,
      "outputs": [
        {
          "output_type": "stream",
          "name": "stdout",
          "text": [
            "<class 'pandas.core.frame.DataFrame'>\n",
            "RangeIndex: 12294 entries, 0 to 12293\n",
            "Data columns (total 7 columns):\n",
            " #   Column    Non-Null Count  Dtype  \n",
            "---  ------    --------------  -----  \n",
            " 0   anime_id  12294 non-null  int64  \n",
            " 1   name      12294 non-null  object \n",
            " 2   genre     12232 non-null  object \n",
            " 3   type      12269 non-null  object \n",
            " 4   episodes  12294 non-null  object \n",
            " 5   rating    12064 non-null  float64\n",
            " 6   members   12294 non-null  int64  \n",
            "dtypes: float64(1), int64(2), object(4)\n",
            "memory usage: 672.5+ KB\n"
          ]
        }
      ]
    },
    {
      "cell_type": "markdown",
      "source": [
        "pada index 0 terdapat kolom \"anime_id\" Kolom ini berisi ID unik untuk setiap anime dalam dataset. Jumlahnya 12294 dan memiliki tipe data int64.\n",
        "\n",
        "pada index 1 terdapat kolom \"nama\" Kolom ini berisi nama anime. Setiap entri adalah string (objek) dan tidak ada nilai yang hilang (non-null) di kolom ini.\n",
        "\n",
        "pada index 2 terdapat kolom \"genre\" Kolom ini berisi genre-genre dari setiap anime. Ada 12232 entri non-null dalam kolom ini. Tipe data kolom ini adalah objek (string).\n",
        "\n",
        "pada index 3 terdapat kolom \"type\" Kolom ini mewakili jenis dari anime, seperti TV, OVA, Movie, dll. Ada 12269 entri non-null dalam kolom ini. Tipe datanya adalah objek (string).\n",
        "\n",
        "pada index 4 terdapat kolom \"episodes\" Kolom ini berisi informasi tentang jumlah episode dari setiap anime. Semua entri adalah string. Jumlah total entri sesuai dengan jumlah baris dalam dataset (12294).\n",
        "\n",
        "pada index 5 terdapat kolom \"rating\" Kolom ini berisi rating dari setiap anime. Ada 12064 entri non-null dalam kolom ini. Tipe data kolom ini adalah float64.\n",
        "\n",
        "pada index 6 terdapat kolom \"members\" Kolom ini berisi jumlah anggota yang telah memberikan peringkat terhadap anime tersebut. Semua entri adalah bilangan bulat (int64)\n",
        "\n",
        "Jadi, dataset ini berisi informasi tentang anime, termasuk ID, nama, genre, jenis, jumlah episode, rating, dan jumlah anggota yang memberikan peringkat. Beberapa kolom memiliki (missing values), seperti genre, type, dan rating"
      ],
      "metadata": {
        "id": "zMrZ7toK-CML"
      }
    },
    {
      "cell_type": "markdown",
      "source": [
        "###Informasi Statistik Deskriptif"
      ],
      "metadata": {
        "id": "6v3Q7a7DGumx"
      }
    },
    {
      "cell_type": "code",
      "source": [
        "data.describe()"
      ],
      "metadata": {
        "id": "zJqxQfuemIly",
        "colab": {
          "base_uri": "https://localhost:8080/",
          "height": 300
        },
        "outputId": "6dfa7b47-ef8d-48b0-ae6c-7971eabb2f4c"
      },
      "execution_count": 20,
      "outputs": [
        {
          "output_type": "execute_result",
          "data": {
            "text/plain": [
              "           anime_id        rating       members\n",
              "count  12294.000000  12064.000000  1.229400e+04\n",
              "mean   14058.221653      6.473902  1.807134e+04\n",
              "std    11455.294701      1.026746  5.482068e+04\n",
              "min        1.000000      1.670000  5.000000e+00\n",
              "25%     3484.250000      5.880000  2.250000e+02\n",
              "50%    10260.500000      6.570000  1.550000e+03\n",
              "75%    24794.500000      7.180000  9.437000e+03\n",
              "max    34527.000000     10.000000  1.013917e+06"
            ],
            "text/html": [
              "\n",
              "  <div id=\"df-fb5001fc-1145-4423-bbfd-1844f499056b\" class=\"colab-df-container\">\n",
              "    <div>\n",
              "<style scoped>\n",
              "    .dataframe tbody tr th:only-of-type {\n",
              "        vertical-align: middle;\n",
              "    }\n",
              "\n",
              "    .dataframe tbody tr th {\n",
              "        vertical-align: top;\n",
              "    }\n",
              "\n",
              "    .dataframe thead th {\n",
              "        text-align: right;\n",
              "    }\n",
              "</style>\n",
              "<table border=\"1\" class=\"dataframe\">\n",
              "  <thead>\n",
              "    <tr style=\"text-align: right;\">\n",
              "      <th></th>\n",
              "      <th>anime_id</th>\n",
              "      <th>rating</th>\n",
              "      <th>members</th>\n",
              "    </tr>\n",
              "  </thead>\n",
              "  <tbody>\n",
              "    <tr>\n",
              "      <th>count</th>\n",
              "      <td>12294.000000</td>\n",
              "      <td>12064.000000</td>\n",
              "      <td>1.229400e+04</td>\n",
              "    </tr>\n",
              "    <tr>\n",
              "      <th>mean</th>\n",
              "      <td>14058.221653</td>\n",
              "      <td>6.473902</td>\n",
              "      <td>1.807134e+04</td>\n",
              "    </tr>\n",
              "    <tr>\n",
              "      <th>std</th>\n",
              "      <td>11455.294701</td>\n",
              "      <td>1.026746</td>\n",
              "      <td>5.482068e+04</td>\n",
              "    </tr>\n",
              "    <tr>\n",
              "      <th>min</th>\n",
              "      <td>1.000000</td>\n",
              "      <td>1.670000</td>\n",
              "      <td>5.000000e+00</td>\n",
              "    </tr>\n",
              "    <tr>\n",
              "      <th>25%</th>\n",
              "      <td>3484.250000</td>\n",
              "      <td>5.880000</td>\n",
              "      <td>2.250000e+02</td>\n",
              "    </tr>\n",
              "    <tr>\n",
              "      <th>50%</th>\n",
              "      <td>10260.500000</td>\n",
              "      <td>6.570000</td>\n",
              "      <td>1.550000e+03</td>\n",
              "    </tr>\n",
              "    <tr>\n",
              "      <th>75%</th>\n",
              "      <td>24794.500000</td>\n",
              "      <td>7.180000</td>\n",
              "      <td>9.437000e+03</td>\n",
              "    </tr>\n",
              "    <tr>\n",
              "      <th>max</th>\n",
              "      <td>34527.000000</td>\n",
              "      <td>10.000000</td>\n",
              "      <td>1.013917e+06</td>\n",
              "    </tr>\n",
              "  </tbody>\n",
              "</table>\n",
              "</div>\n",
              "    <div class=\"colab-df-buttons\">\n",
              "\n",
              "  <div class=\"colab-df-container\">\n",
              "    <button class=\"colab-df-convert\" onclick=\"convertToInteractive('df-fb5001fc-1145-4423-bbfd-1844f499056b')\"\n",
              "            title=\"Convert this dataframe to an interactive table.\"\n",
              "            style=\"display:none;\">\n",
              "\n",
              "  <svg xmlns=\"http://www.w3.org/2000/svg\" height=\"24px\" viewBox=\"0 -960 960 960\">\n",
              "    <path d=\"M120-120v-720h720v720H120Zm60-500h600v-160H180v160Zm220 220h160v-160H400v160Zm0 220h160v-160H400v160ZM180-400h160v-160H180v160Zm440 0h160v-160H620v160ZM180-180h160v-160H180v160Zm440 0h160v-160H620v160Z\"/>\n",
              "  </svg>\n",
              "    </button>\n",
              "\n",
              "  <style>\n",
              "    .colab-df-container {\n",
              "      display:flex;\n",
              "      gap: 12px;\n",
              "    }\n",
              "\n",
              "    .colab-df-convert {\n",
              "      background-color: #E8F0FE;\n",
              "      border: none;\n",
              "      border-radius: 50%;\n",
              "      cursor: pointer;\n",
              "      display: none;\n",
              "      fill: #1967D2;\n",
              "      height: 32px;\n",
              "      padding: 0 0 0 0;\n",
              "      width: 32px;\n",
              "    }\n",
              "\n",
              "    .colab-df-convert:hover {\n",
              "      background-color: #E2EBFA;\n",
              "      box-shadow: 0px 1px 2px rgba(60, 64, 67, 0.3), 0px 1px 3px 1px rgba(60, 64, 67, 0.15);\n",
              "      fill: #174EA6;\n",
              "    }\n",
              "\n",
              "    .colab-df-buttons div {\n",
              "      margin-bottom: 4px;\n",
              "    }\n",
              "\n",
              "    [theme=dark] .colab-df-convert {\n",
              "      background-color: #3B4455;\n",
              "      fill: #D2E3FC;\n",
              "    }\n",
              "\n",
              "    [theme=dark] .colab-df-convert:hover {\n",
              "      background-color: #434B5C;\n",
              "      box-shadow: 0px 1px 3px 1px rgba(0, 0, 0, 0.15);\n",
              "      filter: drop-shadow(0px 1px 2px rgba(0, 0, 0, 0.3));\n",
              "      fill: #FFFFFF;\n",
              "    }\n",
              "  </style>\n",
              "\n",
              "    <script>\n",
              "      const buttonEl =\n",
              "        document.querySelector('#df-fb5001fc-1145-4423-bbfd-1844f499056b button.colab-df-convert');\n",
              "      buttonEl.style.display =\n",
              "        google.colab.kernel.accessAllowed ? 'block' : 'none';\n",
              "\n",
              "      async function convertToInteractive(key) {\n",
              "        const element = document.querySelector('#df-fb5001fc-1145-4423-bbfd-1844f499056b');\n",
              "        const dataTable =\n",
              "          await google.colab.kernel.invokeFunction('convertToInteractive',\n",
              "                                                    [key], {});\n",
              "        if (!dataTable) return;\n",
              "\n",
              "        const docLinkHtml = 'Like what you see? Visit the ' +\n",
              "          '<a target=\"_blank\" href=https://colab.research.google.com/notebooks/data_table.ipynb>data table notebook</a>'\n",
              "          + ' to learn more about interactive tables.';\n",
              "        element.innerHTML = '';\n",
              "        dataTable['output_type'] = 'display_data';\n",
              "        await google.colab.output.renderOutput(dataTable, element);\n",
              "        const docLink = document.createElement('div');\n",
              "        docLink.innerHTML = docLinkHtml;\n",
              "        element.appendChild(docLink);\n",
              "      }\n",
              "    </script>\n",
              "  </div>\n",
              "\n",
              "\n",
              "<div id=\"df-fa738612-bad3-487e-8221-11a8bc57bd7a\">\n",
              "  <button class=\"colab-df-quickchart\" onclick=\"quickchart('df-fa738612-bad3-487e-8221-11a8bc57bd7a')\"\n",
              "            title=\"Suggest charts\"\n",
              "            style=\"display:none;\">\n",
              "\n",
              "<svg xmlns=\"http://www.w3.org/2000/svg\" height=\"24px\"viewBox=\"0 0 24 24\"\n",
              "     width=\"24px\">\n",
              "    <g>\n",
              "        <path d=\"M19 3H5c-1.1 0-2 .9-2 2v14c0 1.1.9 2 2 2h14c1.1 0 2-.9 2-2V5c0-1.1-.9-2-2-2zM9 17H7v-7h2v7zm4 0h-2V7h2v10zm4 0h-2v-4h2v4z\"/>\n",
              "    </g>\n",
              "</svg>\n",
              "  </button>\n",
              "\n",
              "<style>\n",
              "  .colab-df-quickchart {\n",
              "      --bg-color: #E8F0FE;\n",
              "      --fill-color: #1967D2;\n",
              "      --hover-bg-color: #E2EBFA;\n",
              "      --hover-fill-color: #174EA6;\n",
              "      --disabled-fill-color: #AAA;\n",
              "      --disabled-bg-color: #DDD;\n",
              "  }\n",
              "\n",
              "  [theme=dark] .colab-df-quickchart {\n",
              "      --bg-color: #3B4455;\n",
              "      --fill-color: #D2E3FC;\n",
              "      --hover-bg-color: #434B5C;\n",
              "      --hover-fill-color: #FFFFFF;\n",
              "      --disabled-bg-color: #3B4455;\n",
              "      --disabled-fill-color: #666;\n",
              "  }\n",
              "\n",
              "  .colab-df-quickchart {\n",
              "    background-color: var(--bg-color);\n",
              "    border: none;\n",
              "    border-radius: 50%;\n",
              "    cursor: pointer;\n",
              "    display: none;\n",
              "    fill: var(--fill-color);\n",
              "    height: 32px;\n",
              "    padding: 0;\n",
              "    width: 32px;\n",
              "  }\n",
              "\n",
              "  .colab-df-quickchart:hover {\n",
              "    background-color: var(--hover-bg-color);\n",
              "    box-shadow: 0 1px 2px rgba(60, 64, 67, 0.3), 0 1px 3px 1px rgba(60, 64, 67, 0.15);\n",
              "    fill: var(--button-hover-fill-color);\n",
              "  }\n",
              "\n",
              "  .colab-df-quickchart-complete:disabled,\n",
              "  .colab-df-quickchart-complete:disabled:hover {\n",
              "    background-color: var(--disabled-bg-color);\n",
              "    fill: var(--disabled-fill-color);\n",
              "    box-shadow: none;\n",
              "  }\n",
              "\n",
              "  .colab-df-spinner {\n",
              "    border: 2px solid var(--fill-color);\n",
              "    border-color: transparent;\n",
              "    border-bottom-color: var(--fill-color);\n",
              "    animation:\n",
              "      spin 1s steps(1) infinite;\n",
              "  }\n",
              "\n",
              "  @keyframes spin {\n",
              "    0% {\n",
              "      border-color: transparent;\n",
              "      border-bottom-color: var(--fill-color);\n",
              "      border-left-color: var(--fill-color);\n",
              "    }\n",
              "    20% {\n",
              "      border-color: transparent;\n",
              "      border-left-color: var(--fill-color);\n",
              "      border-top-color: var(--fill-color);\n",
              "    }\n",
              "    30% {\n",
              "      border-color: transparent;\n",
              "      border-left-color: var(--fill-color);\n",
              "      border-top-color: var(--fill-color);\n",
              "      border-right-color: var(--fill-color);\n",
              "    }\n",
              "    40% {\n",
              "      border-color: transparent;\n",
              "      border-right-color: var(--fill-color);\n",
              "      border-top-color: var(--fill-color);\n",
              "    }\n",
              "    60% {\n",
              "      border-color: transparent;\n",
              "      border-right-color: var(--fill-color);\n",
              "    }\n",
              "    80% {\n",
              "      border-color: transparent;\n",
              "      border-right-color: var(--fill-color);\n",
              "      border-bottom-color: var(--fill-color);\n",
              "    }\n",
              "    90% {\n",
              "      border-color: transparent;\n",
              "      border-bottom-color: var(--fill-color);\n",
              "    }\n",
              "  }\n",
              "</style>\n",
              "\n",
              "  <script>\n",
              "    async function quickchart(key) {\n",
              "      const quickchartButtonEl =\n",
              "        document.querySelector('#' + key + ' button');\n",
              "      quickchartButtonEl.disabled = true;  // To prevent multiple clicks.\n",
              "      quickchartButtonEl.classList.add('colab-df-spinner');\n",
              "      try {\n",
              "        const charts = await google.colab.kernel.invokeFunction(\n",
              "            'suggestCharts', [key], {});\n",
              "      } catch (error) {\n",
              "        console.error('Error during call to suggestCharts:', error);\n",
              "      }\n",
              "      quickchartButtonEl.classList.remove('colab-df-spinner');\n",
              "      quickchartButtonEl.classList.add('colab-df-quickchart-complete');\n",
              "    }\n",
              "    (() => {\n",
              "      let quickchartButtonEl =\n",
              "        document.querySelector('#df-fa738612-bad3-487e-8221-11a8bc57bd7a button');\n",
              "      quickchartButtonEl.style.display =\n",
              "        google.colab.kernel.accessAllowed ? 'block' : 'none';\n",
              "    })();\n",
              "  </script>\n",
              "</div>\n",
              "    </div>\n",
              "  </div>\n"
            ],
            "application/vnd.google.colaboratory.intrinsic+json": {
              "type": "dataframe",
              "summary": "{\n  \"name\": \"data\",\n  \"rows\": 8,\n  \"fields\": [\n    {\n      \"column\": \"anime_id\",\n      \"properties\": {\n        \"dtype\": \"number\",\n        \"std\": 11133.263547568791,\n        \"min\": 1.0,\n        \"max\": 34527.0,\n        \"num_unique_values\": 8,\n        \"samples\": [\n          14058.221652838783,\n          10260.5,\n          12294.0\n        ],\n        \"semantic_type\": \"\",\n        \"description\": \"\"\n      }\n    },\n    {\n      \"column\": \"rating\",\n      \"properties\": {\n        \"dtype\": \"number\",\n        \"std\": 4263.309380308143,\n        \"min\": 1.0267463068980571,\n        \"max\": 12064.0,\n        \"num_unique_values\": 8,\n        \"samples\": [\n          6.473901690981432,\n          6.57,\n          12064.0\n        ],\n        \"semantic_type\": \"\",\n        \"description\": \"\"\n      }\n    },\n    {\n      \"column\": \"members\",\n      \"properties\": {\n        \"dtype\": \"number\",\n        \"std\": 354058.2878098787,\n        \"min\": 5.0,\n        \"max\": 1013917.0,\n        \"num_unique_values\": 8,\n        \"samples\": [\n          18071.33886448674,\n          1550.0,\n          12294.0\n        ],\n        \"semantic_type\": \"\",\n        \"description\": \"\"\n      }\n    }\n  ]\n}"
            }
          },
          "metadata": {},
          "execution_count": 20
        }
      ]
    },
    {
      "cell_type": "markdown",
      "source": [
        "pada kolom output \"index\" diatas merupakan perhitungan yang meliputi, count,mean,sdt,min,25%,50%,75%, dan Max\n",
        "\n",
        "pada kolom output \"anime_id\" Kolom ini berisi ID unik untuk setiap anime dalam dataset. Jumlah entri dalam kolom ini adalah 12294.0, Rata-rata entri dalam kolom ini adalah 14058.221652838783,Nilai minimumnya adalah 1.0 dan nilai maksimumnya adalah 34527.0  Standar deviasi dari kolom ini adalah 11455.29, menunjukkan sebaran yang cukup besar dari nilai-nilai anime_id. Nilai-nilai ini juga menunjukkan bahwa data anime_id tidak diurutkan secara berurutan.\n",
        "\n",
        "rating: Kolom ini berisi rating untuk setiap anime. Jumlah entri yang tidak null dalam kolom ini adalah 12064. Nilai rata-ratanya adalah 6.47 dengan standar deviasi sekitar 1.03, menunjukkan variasi yang cukup rendah di antara nilai-nilai rating. Rating terendah adalah 1.67 dan rating tertinggi adalah 10.0.\n",
        "\n",
        "members: Kolom ini berisi jumlah anggota yang memberikan peringkat terhadap anime tersebut. Jumlah entri dalam kolom ini adalah 12294. Jumlah anggota terendah yang memberikan peringkat adalah 5 dan jumlah anggota tertinggi yang memberikan peringkat adalah 1013917. Standar deviasi dari kolom ini adalah 54820.68, menunjukkan sebaran yang cukup besar dari jumlah anggota yang memberikan peringkat."
      ],
      "metadata": {
        "id": "d70jyDkqG4We"
      }
    },
    {
      "cell_type": "markdown",
      "source": [
        "##**Exploratoory Data Analysis**"
      ],
      "metadata": {
        "id": "XEo6IPN9w6yC"
      }
    },
    {
      "cell_type": "markdown",
      "source": [
        "###Distribusi Variabel Tunggal"
      ],
      "metadata": {
        "id": "2Dj4OATjKuAe"
      }
    },
    {
      "cell_type": "code",
      "source": [
        "plt.figure(figsize=(10, 6))\n",
        "sns.histplot(data['rating'], bins=30, kde=True, color='blue')\n",
        "plt.title('Distribusi Rating Anime')\n",
        "plt.xlabel('Rating')\n",
        "plt.ylabel('Frekuensi')\n",
        "plt.show()"
      ],
      "metadata": {
        "colab": {
          "base_uri": "https://localhost:8080/",
          "height": 564
        },
        "id": "PAkrUWRExHAf",
        "outputId": "9757623c-99b0-46e2-c03c-bafab323877a"
      },
      "execution_count": 21,
      "outputs": [
        {
          "output_type": "display_data",
          "data": {
            "text/plain": [
              "<Figure size 1000x600 with 1 Axes>"
            ],
            "image/png": "[encoded data removed]"
          },
          "metadata": {}
        }
      ]
    },
    {
      "cell_type": "markdown",
      "source": [
        "####Histogram Distribusi Rating Anime:\n",
        "\n",
        "\n",
        "Penjelasan: Histogram menunjukkan distribusi rating anime dalam dataset. yang dimana frekuensi dimulai dari 0-1400 dan rating dimulai dari 0-10\n",
        "\n",
        "\n",
        "####**Interpretasi:**\n",
        "\n",
        "*   Distribusi rating anime pada dataset ini tidak normal, dengan kemiringan ke kiri yang menunjukkan bahwa mayoritas anime memiliki rating yang lebih rendah.\n",
        "*   Puncak distribusi berada di sekitar rating 6-7, menunjukkan bahwa banyak anime yang memiliki kualitas rata-rata.\n",
        "* Ada beberapa anime yang memiliki rating sangat tinggi (9-10) dan juga sangat rendah (1-2).\n",
        "\n",
        "*   Distribusi rating anime pada dataset ini menunjukkan bahwa Penonton anime memiliki selera yang beragam, dengan preferensi yang berbeda terhadap genre, gaya animasi, dan cerita.\n",
        "* ada banyak anime yang memiliki kualitas yang kurang baik bagi beberapa preferensi tertentu\n",
        "*   Ada banyak juga anime yang memiliki kualitas yang baik dan menarik bagi berbagai kalangan\n",
        "* Rating anime tidak selalu mencerminkan kualitasnya, sehingga penting untuk melihat faktor lain seperti genre, cerita, dan karakter\n",
        "\n",
        "\n",
        "\n",
        "\n",
        "\n",
        "\n"
      ],
      "metadata": {
        "id": "F0D1VAGhY8rs"
      }
    },
    {
      "cell_type": "markdown",
      "source": [
        "###Hubungan Antar Dua Variabel"
      ],
      "metadata": {
        "id": "faYRdP2yO55H"
      }
    },
    {
      "cell_type": "code",
      "source": [
        "plt.figure(figsize=(10, 6))\n",
        "sns.regplot(x='rating', y='members', data=data, scatter_kws={'alpha':0.5}, line_kws={'color':'red'})\n",
        "plt.title('Hubungan antara Rating dan Jumlah Anggota')\n",
        "plt.xlabel('Rating')\n",
        "plt.ylabel('Jumlah Anggota')\n",
        "plt.grid(True)\n",
        "plt.show()\n"
      ],
      "metadata": {
        "colab": {
          "base_uri": "https://localhost:8080/",
          "height": 564
        },
        "id": "cXz9_w-fPSmd",
        "outputId": "ffca7f4e-41ed-4db6-fab0-be6ba7d08a64"
      },
      "execution_count": 23,
      "outputs": [
        {
          "output_type": "display_data",
          "data": {
            "text/plain": [
              "<Figure size 1000x600 with 1 Axes>"
            ],
            "image/png": "[encoded data removed]"
          },
          "metadata": {}
        }
      ]
    },
    {
      "cell_type": "markdown",
      "source": [
        "###Scatter plot untuk melihat hubungan antara rating dan jumlah anggota\n",
        "\n",
        "####**Interpretasi**\n",
        "\n",
        "\n",
        "* Rating dan jumlah anggota saling terkait. Anime dengan rating tinggi cenderung memiliki lebih banyak anggota, dan komunitas anime dengan banyak anggota cenderung memiliki rating tinggi.\n",
        "* Rating dapat menjadi indikator popularitas dan kualitas anime, dan komunitas anime yang aktif dan memiliki banyak konten menarik dapat menarik lebih banyak anggota.\n",
        "* Anime dengan rating tinggi lebih populer dan menarik minat lebih banyak orang untuk bergabung dengan komunitasnya.\n",
        "* Rating tinggi dapat menjadi indikator kualitas anime, sehingga orang lebih tertarik untuk menonton dan bergabung dengan komunitasnya.\n",
        "* Komunitas anime dengan rating tinggi biasanya lebih aktif dan memiliki lebih banyak konten menarik, sehingga menarik lebih banyak anggota.\n",
        "\n",
        "\n",
        "\n"
      ],
      "metadata": {
        "id": "GJ0CJPj1kGoe"
      }
    },
    {
      "cell_type": "markdown",
      "source": [
        "###Komposisi Variabel"
      ],
      "metadata": {
        "id": "mS17W0gMTKiK"
      }
    },
    {
      "cell_type": "code",
      "source": [
        "plt.figure(figsize=(8, 8))\n",
        "data['type'].value_counts().plot(kind='pie', autopct='%1.1f%%')\n",
        "plt.title('Komposisi Jenis Anime')\n",
        "plt.ylabel('')\n",
        "plt.show()"
      ],
      "metadata": {
        "colab": {
          "base_uri": "https://localhost:8080/",
          "height": 675
        },
        "id": "gditPVULTPh1",
        "outputId": "ec8898b8-93a0-4484-f1f3-a870fa8a102d"
      },
      "execution_count": 24,
      "outputs": [
        {
          "output_type": "display_data",
          "data": {
            "text/plain": [
              "<Figure size 800x800 with 1 Axes>"
            ],
            "image/png": "[encoded data removed]"
          },
          "metadata": {}
        }
      ]
    },
    {
      "cell_type": "markdown",
      "source": [
        "###Pie chart untuk melihat komposisi jenis anime\n",
        "\n",
        "####**Interpretasi**\n",
        "\n",
        "\n",
        "\n",
        "*   TV: 30.9%\n",
        "*   OVA: 27.0%\n",
        "* Movie:\n",
        "* ONA: 13.7%\n",
        "* Music: 4.0%\n",
        "* Special: 5.4%\n",
        "* Terdapat berbagai jenis anime yang tersedia, dengan anime TV sebagai format yang paling populer.\n",
        "* Setiap jenis anime memiliki karakteristik dan target penontonnya sendiri.\n",
        "* Penonton anime dapat memilih jenis anime yang sesuai dengan selera mereka.\n",
        "\n",
        "\n",
        "\n"
      ],
      "metadata": {
        "id": "vnL4k9WDmIMu"
      }
    },
    {
      "cell_type": "markdown",
      "source": [
        "###Perbandingan Antar Kategori yang Berbeda"
      ],
      "metadata": {
        "id": "yVvnrGTUTi3S"
      }
    },
    {
      "cell_type": "code",
      "source": [
        "plt.figure(figsize=(10, 6))\n",
        "sns.barplot(x='type', y='rating', data=data, hue='type', palette='Set2', ci=None, dodge=False)\n",
        "plt.title('Perbandingan Rating Berdasarkan Jenis Anime')\n",
        "plt.xlabel('Jenis Anime')\n",
        "plt.ylabel('Rating Rata-Rata')\n",
        "plt.xticks(rotation=45)\n",
        "plt.legend([], frameon=False)\n",
        "plt.grid(axis='y')\n",
        "plt.tight_layout()\n",
        "plt.show()"
      ],
      "metadata": {
        "colab": {
          "base_uri": "https://localhost:8080/",
          "height": 729
        },
        "id": "fjcCYqBMYUIu",
        "outputId": "15dc293e-0186-4a16-bf87-8d388d292c3c"
      },
      "execution_count": 32,
      "outputs": [
        {
          "output_type": "stream",
          "name": "stderr",
          "text": [
            "<ipython-input-32-b1f4f837306f>:2: FutureWarning:\n",
            "\n",
            "\n",
            "\n",
            "The `ci` parameter is deprecated. Use `errorbar=None` for the same effect.\n",
            "\n",
            "\n"
          ]
        },
        {
          "output_type": "display_data",
          "data": {
            "text/plain": [
              "<Figure size 1000x600 with 1 Axes>"
            ],
            "image/png": "[encoded data removed]"
          },
          "metadata": {}
        }
      ]
    },
    {
      "cell_type": "markdown",
      "source": [
        "###Barchart untuk melihat perbandingan rating berdasarkan jenis anime\n",
        "\n",
        "####**Interpretasi**\n",
        "\n",
        "\n",
        "*   TV memiliki rating rata-rata tertinggi yaitu (6.8)\n",
        "*   Movie dan OVA meiliki rata-rata yang sama yaitu (6.4)\n",
        "* Music dan ONA memiliki rata-rata yang sama yaitu (5.6)\n",
        "\n",
        "\n",
        "\n"
      ],
      "metadata": {
        "id": "deAKfoPtvkt3"
      }
    },
    {
      "cell_type": "markdown",
      "source": [
        "##**Verify Data Quality**"
      ],
      "metadata": {
        "id": "aiBiCFSRxK52"
      }
    },
    {
      "cell_type": "markdown",
      "source": [
        "###Missing Values"
      ],
      "metadata": {
        "id": "5ZwXbUkuxY6m"
      }
    },
    {
      "cell_type": "code",
      "source": [
        "for col in data.columns:\n",
        "  print(f\"Kolom {col}: {data[col].isnull().sum()} nilai kosong\")"
      ],
      "metadata": {
        "id": "_9O-KlBzxR8r",
        "colab": {
          "base_uri": "https://localhost:8080/"
        },
        "outputId": "131f4359-33ac-4b7c-f36c-d2a13240c1f7"
      },
      "execution_count": 33,
      "outputs": [
        {
          "output_type": "stream",
          "name": "stdout",
          "text": [
            "Kolom anime_id: 0 nilai kosong\n",
            "Kolom name: 0 nilai kosong\n",
            "Kolom genre: 62 nilai kosong\n",
            "Kolom type: 25 nilai kosong\n",
            "Kolom episodes: 0 nilai kosong\n",
            "Kolom rating: 230 nilai kosong\n",
            "Kolom members: 0 nilai kosong\n"
          ]
        }
      ]
    },
    {
      "cell_type": "markdown",
      "source": [
        "* pada output dataset diatas memiliki beberapa kolom yang nilai nya kosong, diantaranya genre sebanyak 65, type sebanyak 25, dan rating sebanyak 230\n",
        "*Rating merupakan kolom terbanyak yang nilainya kosong"
      ],
      "metadata": {
        "id": "sazWEbtK2961"
      }
    },
    {
      "cell_type": "markdown",
      "source": [
        "###Outliers Values"
      ],
      "metadata": {
        "id": "I6KnXpDrxdY7"
      }
    },
    {
      "cell_type": "code",
      "source": [
        "data['episodes'] = pd.to_numeric(data['episodes'], errors='coerce')\n",
        "\n",
        "cols = ['anime_id', 'rating', 'members']\n",
        "\n",
        "outliers_percentage = []\n",
        "\n",
        "for col in cols:\n",
        "    if pd.api.types.is_numeric_dtype(data[col]):\n",
        "        q1, q3 = data[col].quantile(0.25), data[col].quantile(0.75)\n",
        "        iqr = q3 - q1\n",
        "        outlier_percentage = ((data[col] < (q1 - 1.5 * iqr)) | (data[col] > (q3 + 1.5 * iqr))).mean() * 100\n",
        "        outliers_percentage.append(outlier_percentage)\n",
        "    else:\n",
        "        outliers_percentage.append('N/A')\n",
        "results_df = pd.DataFrame({\n",
        "    'Columns': cols,\n",
        "    'Outliers Percentage': outliers_percentage\n",
        "}).set_index('Columns')\n",
        "\n",
        "print(results_df)\n"
      ],
      "metadata": {
        "id": "DyA_52m3xooe",
        "colab": {
          "base_uri": "https://localhost:8080/"
        },
        "outputId": "fb19632e-fc03-4184-b375-19d88d5d14e6"
      },
      "execution_count": 59,
      "outputs": [
        {
          "output_type": "stream",
          "name": "stdout",
          "text": [
            "          Outliers Percentage\n",
            "Columns                      \n",
            "anime_id             0.000000\n",
            "rating               1.862697\n",
            "members             15.454693\n"
          ]
        }
      ]
    },
    {
      "cell_type": "markdown",
      "source": [
        "outliers pada kolom anime_id, rating dan members\n",
        "\n",
        "\n",
        "\n",
        "*   anime_id: Tidak ada outlier dalam kolom ini, yang berarti tidak ada nilai di luar rentang yang dianggap abnormal atau tidak wajar.\n",
        "*   rating: Terdapat 1.86% outlier dalam kolom rating. Ini mengindikasikan bahwa sebagian kecil nilai dalam kolom rating berada di luar jangkauan nilai yang umum.\n",
        "* members: Sekitar 15.45% data dalam kolom members dianggap outlier. Ini menunjukkan bahwa sejumlah besar entri memiliki jumlah anggota yang signifikan,\n",
        "\n"
      ],
      "metadata": {
        "id": "NKYWjmqEhuey"
      }
    },
    {
      "cell_type": "markdown",
      "source": [
        "###Duplicated Values"
      ],
      "metadata": {
        "id": "Ts6etnHfxrNY"
      }
    },
    {
      "cell_type": "code",
      "source": [
        "for col in data.columns:\n",
        "    duplicated_values = data[col][data[col].duplicated()]\n",
        "    if duplicated_values.empty:\n",
        "        print(f'Tidak ada nilai duplikat dalam kolom {col}')\n",
        "    else:\n",
        "        print(f'Nilai duplikat dalam kolom {col}:')\n",
        "        print(duplicated_values)"
      ],
      "metadata": {
        "colab": {
          "base_uri": "https://localhost:8080/"
        },
        "id": "zrf9j3oHk3el",
        "outputId": "9289c05d-94ad-4c39-d979-e1287bbdefd6"
      },
      "execution_count": 63,
      "outputs": [
        {
          "output_type": "stream",
          "name": "stdout",
          "text": [
            "Tidak ada nilai duplikat dalam kolom anime_id\n",
            "Nilai duplikat dalam kolom name:\n",
            "10141           Saru Kani Gassen\n",
            "10194    Shi Wan Ge Leng Xiaohua\n",
            "Name: name, dtype: object\n",
            "Nilai duplikat dalam kolom genre:\n",
            "4        Action, Comedy, Historical, Parody, Samurai, S...\n",
            "8        Action, Comedy, Historical, Parody, Samurai, S...\n",
            "9        Action, Comedy, Historical, Parody, Samurai, S...\n",
            "12       Action, Comedy, Historical, Parody, Samurai, S...\n",
            "14                  Comedy, Drama, School, Shounen, Sports\n",
            "                               ...                        \n",
            "12289                                               Hentai\n",
            "12290                                               Hentai\n",
            "12291                                               Hentai\n",
            "12292                                               Hentai\n",
            "12293                                               Hentai\n",
            "Name: genre, Length: 9029, dtype: object\n",
            "Nilai duplikat dalam kolom type:\n",
            "2           TV\n",
            "3           TV\n",
            "4           TV\n",
            "5           TV\n",
            "6           TV\n",
            "         ...  \n",
            "12289      OVA\n",
            "12290      OVA\n",
            "12291      OVA\n",
            "12292      OVA\n",
            "12293    Movie\n",
            "Name: type, Length: 12287, dtype: object\n",
            "Nilai duplikat dalam kolom episodes:\n",
            "4        51.0\n",
            "8         1.0\n",
            "10       24.0\n",
            "11        1.0\n",
            "14       25.0\n",
            "         ... \n",
            "12289     1.0\n",
            "12290     1.0\n",
            "12291     4.0\n",
            "12292     1.0\n",
            "12293     1.0\n",
            "Name: episodes, Length: 12107, dtype: float64\n",
            "Nilai duplikat dalam kolom rating:\n",
            "9        9.11\n",
            "15       8.93\n",
            "20       8.83\n",
            "21       8.83\n",
            "23       8.82\n",
            "         ... \n",
            "12289    4.15\n",
            "12290    4.28\n",
            "12291    4.88\n",
            "12292    4.98\n",
            "12293    5.46\n",
            "Name: rating, Length: 11695, dtype: float64\n",
            "Nilai duplikat dalam kolom members:\n",
            "703        7999\n",
            "825       20397\n",
            "854        7515\n",
            "864        2688\n",
            "878      184525\n",
            "          ...  \n",
            "12289       211\n",
            "12290       183\n",
            "12291       219\n",
            "12292       175\n",
            "12293       142\n",
            "Name: members, Length: 5588, dtype: int64\n"
          ]
        }
      ]
    },
    {
      "cell_type": "markdown",
      "source": [
        "###**Duplikasi antar kolom**\n",
        "pada output diatas mengecek perkolom apakah terdapat kolom yang memiliki duplikasi. kolom yang memiliki duplikasi diantara nya \"name, genre, type, episode, rating, members\" hanya ada satu kolom yang tidak memili duplikat yaitu kolom \"anime_id\""
      ],
      "metadata": {
        "id": "RpOpbTDIniJf"
      }
    },
    {
      "cell_type": "code",
      "source": [
        "total_duplicates = f\"Jumlah total duplikasi: {data.duplicated().sum()}\"\n",
        "total_duplicates"
      ],
      "metadata": {
        "id": "M6iYLIgUxwad",
        "colab": {
          "base_uri": "https://localhost:8080/",
          "height": 35
        },
        "outputId": "2f99d29d-8d8f-4c73-9415-1172af82e7d7"
      },
      "execution_count": 56,
      "outputs": [
        {
          "output_type": "execute_result",
          "data": {
            "text/plain": [
              "'Jumlah total duplikasi: 0'"
            ],
            "application/vnd.google.colaboratory.intrinsic+json": {
              "type": "string"
            }
          },
          "metadata": {},
          "execution_count": 56
        }
      ]
    },
    {
      "cell_type": "markdown",
      "source": [
        "###**Duplikasi keseluruhan DataFrame**\n",
        "\n",
        "pada ouput diatas mengecek keseluruh dataframe apakah memiliki nilai duplikasi dan hasilnya tidak ada nilai duplikasi."
      ],
      "metadata": {
        "id": "tral_mamoqV4"
      }
    },
    {
      "cell_type": "markdown",
      "source": [
        "###Inconsistent Values / Noise"
      ],
      "metadata": {
        "id": "usHQIEB7xwwF"
      }
    },
    {
      "cell_type": "code",
      "source": [
        "print(\"Tipe data kolom:\")\n",
        "print(data.dtypes)"
      ],
      "metadata": {
        "id": "6u7O0nyOyE6B",
        "colab": {
          "base_uri": "https://localhost:8080/"
        },
        "outputId": "8a52c211-5da0-44e8-9b83-f641b0181c3d"
      },
      "execution_count": 47,
      "outputs": [
        {
          "output_type": "stream",
          "name": "stdout",
          "text": [
            "Tipe data kolom:\n",
            "anime_id      int64\n",
            "name         object\n",
            "genre        object\n",
            "type         object\n",
            "episodes     object\n",
            "rating      float64\n",
            "members       int64\n",
            "dtype: object\n"
          ]
        }
      ]
    },
    {
      "cell_type": "code",
      "source": [
        "[print(f\"Columns -> {col}\\n{data[col].unique()}\\n\\n{'-' * 30}\") for col in data.columns]"
      ],
      "metadata": {
        "colab": {
          "base_uri": "https://localhost:8080/"
        },
        "id": "fei_nkf1ifU8",
        "outputId": "f5f76997-cf00-48cb-fc9d-b3b599dbff7a"
      },
      "execution_count": 60,
      "outputs": [
        {
          "output_type": "stream",
          "name": "stdout",
          "text": [
            "Columns -> anime_id\n",
            "[32281  5114 28977 ...  5621  6133 26081]\n",
            "\n",
            "------------------------------\n",
            "Columns -> name\n",
            "['Kimi no Na wa.' 'Fullmetal Alchemist: Brotherhood' 'Gintama°' ...\n",
            " 'Violence Gekiga David no Hoshi'\n",
            " 'Violence Gekiga Shin David no Hoshi: Inma Densetsu'\n",
            " 'Yasuji no Pornorama: Yacchimae!!']\n",
            "\n",
            "------------------------------\n",
            "Columns -> genre\n",
            "['Drama, Romance, School, Supernatural'\n",
            " 'Action, Adventure, Drama, Fantasy, Magic, Military, Shounen'\n",
            " 'Action, Comedy, Historical, Parody, Samurai, Sci-Fi, Shounen' ...\n",
            " 'Hentai, Sports' 'Drama, Romance, School, Yuri' 'Hentai, Slice of Life']\n",
            "\n",
            "------------------------------\n",
            "Columns -> type\n",
            "['Movie' 'TV' 'OVA' 'Special' 'Music' 'ONA' nan]\n",
            "\n",
            "------------------------------\n",
            "Columns -> episodes\n",
            "['1' '64' '51' '24' '10' '148' '110' '13' '201' '25' '22' '75' '4' '26'\n",
            " '12' '27' '43' '74' '37' '2' '11' '99' 'Unknown' '39' '101' '47' '50'\n",
            " '62' '33' '112' '23' '3' '94' '6' '8' '14' '7' '40' '15' '203' '77' '291'\n",
            " '120' '102' '96' '38' '79' '175' '103' '70' '153' '45' '5' '21' '63' '52'\n",
            " '28' '145' '36' '69' '60' '178' '114' '35' '61' '34' '109' '20' '9' '49'\n",
            " '366' '97' '48' '78' '358' '155' '104' '113' '54' '167' '161' '42' '142'\n",
            " '31' '373' '220' '46' '195' '17' '1787' '73' '147' '127' '16' '19' '98'\n",
            " '150' '76' '53' '124' '29' '115' '224' '44' '58' '93' '154' '92' '67'\n",
            " '172' '86' '30' '276' '59' '72' '330' '41' '105' '128' '137' '56' '55'\n",
            " '65' '243' '193' '18' '191' '180' '91' '192' '66' '182' '32' '164' '100'\n",
            " '296' '694' '95' '68' '117' '151' '130' '87' '170' '119' '84' '108' '156'\n",
            " '140' '331' '305' '300' '510' '200' '88' '1471' '526' '143' '726' '136'\n",
            " '1818' '237' '1428' '365' '163' '283' '71' '260' '199' '225' '312' '240'\n",
            " '1306' '1565' '773' '1274' '90' '475' '263' '83' '85' '1006' '80' '162'\n",
            " '132' '141' '125']\n",
            "\n",
            "------------------------------\n",
            "Columns -> rating\n",
            "[ 9.37  9.26  9.25  9.17  9.16  9.15  9.13  9.11  9.1   9.06  9.05  9.04\n",
            "  8.98  8.93  8.92  8.88  8.84  8.83  8.82  8.81  8.8   8.78  8.77  8.76\n",
            "  8.75  8.74  8.73  8.72  8.71  8.69  8.68  8.67  8.66  8.65  8.64  8.62\n",
            "  8.61  8.6   8.59  8.58  8.57  8.56  8.55  8.54  8.53  8.52  8.51  8.5\n",
            "  8.49  8.48  8.47  8.46  8.45  8.44  8.43  8.42  8.41  8.4   8.39  8.38\n",
            "  8.37  8.36  8.35  8.34  8.33  8.32  8.31  8.3   8.29  8.28  8.27  8.26\n",
            "  8.25  8.24  8.23  8.22  8.21  8.2   8.19  8.18  8.17  8.16  8.15  8.14\n",
            "  8.13  8.12  8.11  8.1   8.09  8.08  8.07  8.06  8.05  8.04  8.03  8.02\n",
            "  8.01  8.    7.99  7.98  7.97  7.96  7.95  7.94  7.93  7.92  7.91  7.9\n",
            "  7.89  7.88  7.87  7.86  7.85  7.84  7.83  7.82  7.81  7.8   7.79  7.78\n",
            "  7.77  7.76  7.75  7.74  7.73  7.72  7.71  7.7   7.69  7.68  7.67  7.66\n",
            "  7.65  7.64  7.63  7.62  7.61  7.6   7.59  7.58  7.57  7.56  7.55  7.54\n",
            "  7.53  7.52  7.51  7.5   7.49  7.48  7.47  7.46  7.45  7.44  7.43  7.42\n",
            "  7.41  7.4   7.39  7.38  7.37  7.36  7.35  7.34  7.33  7.32  7.31  7.3\n",
            "  7.29  7.28  7.27  7.25  7.26  7.24  7.23  7.22  7.21  7.2   7.19  7.18\n",
            "  7.17  7.16  7.14  7.15  7.13  7.12  7.11  7.1   7.09  7.08  7.07  7.06\n",
            "  7.05  7.04  7.03  7.02  7.01  7.    6.99  6.98  6.97  6.96  6.95  6.94\n",
            "  6.93  6.92  6.91  6.9   6.89  6.88  6.87  6.86  6.85  6.84  6.83  6.82\n",
            "  6.81  6.8   6.79  6.78  6.75  6.77  6.76  6.74  6.73  6.72  6.71  6.7\n",
            "  6.69  6.68  6.67  6.66  6.65  6.64  6.63  6.62  6.61  6.6   6.59  6.58\n",
            "  6.57  6.56  6.55  6.54  6.53  6.52  6.51  6.47  6.5   6.49  6.48  6.46\n",
            "  6.45  6.42  6.44  6.43  6.39  6.41  6.4   6.38  6.37  6.35  6.36  6.34\n",
            "  6.33  6.32  6.31  6.3   6.29  6.28  6.27  6.26  6.25  6.22  6.24  6.23\n",
            "  6.21  6.2   6.19  6.18  6.17  6.16  6.15  6.14  6.13  6.12  6.1   6.11\n",
            "  6.09  6.08  6.06  6.07  6.05  6.04  6.03  6.01  6.02  6.    5.99  5.98\n",
            "  5.97  5.96  5.95  5.94  5.93  5.92  5.91  5.89  5.9   5.88  5.87  5.86\n",
            "  5.85  5.84  5.83  5.82  5.81  5.8   5.79  5.78  5.77  5.76  5.75  5.74\n",
            "  5.73  5.72  5.7   5.71  5.69  5.68  5.67  5.66  5.65  5.64  5.63  5.62\n",
            "  5.61  5.6   5.59  5.58  5.57  5.56  5.55  5.53  5.54  5.52  5.51  5.5\n",
            "  5.49  5.48  5.46  5.47  5.45  5.44  5.43  5.42  5.41  5.4   5.39  5.38\n",
            "  5.37  5.36  5.35  5.34  5.33  5.32  5.31  5.3   5.29  5.28  5.27  5.26\n",
            "  5.24  5.25  5.23  5.22  5.21  5.2   5.19  5.14  5.18  5.17  5.16  5.15\n",
            "  5.13  5.11  5.12  5.1   5.09  5.07  5.08  5.06  5.05  5.04  5.03  5.02\n",
            "  5.01  5.    4.99  4.98  4.97  4.96  4.95  4.94  4.93  4.92  4.91  4.9\n",
            "  4.89  4.88  4.84  4.87  4.86  4.85  4.83  4.82  4.81  4.8   4.79  4.78\n",
            "  4.77  4.76  4.75  4.74  4.73  4.72  4.71  4.7   4.69  4.68  4.66  4.67\n",
            "  4.65  4.64  4.63  4.62  4.6   4.59  4.58  4.57  4.56  4.55  4.54  4.53\n",
            "  4.52  4.49  4.5   4.48  4.46  4.45  4.44  4.43  4.42  4.4   4.39  4.38\n",
            "  4.36  4.35  4.34  4.32  4.31  4.3   4.28  4.27  4.26  4.25  4.24  4.23\n",
            "  4.22  4.21  4.19  4.17  4.16  4.15  4.11  4.08  4.04  4.03  4.02  4.\n",
            "  3.99  3.98  3.96  3.91  3.9   3.88  3.87  3.86  3.84  3.83  3.82  3.8\n",
            "  3.78  3.76  3.75  3.74  3.73  3.71  3.7   3.68  3.65  3.63  3.62  3.6\n",
            "  3.58  3.59  3.56  3.47  3.46  3.41  3.36  3.33  3.32  3.27  2.95  2.93\n",
            "  2.78  2.67  2.37  2.14  2.    4.06  4.18  4.09  3.67  3.    4.33  3.89\n",
            "  4.2   3.61  4.13  3.11  2.58  4.29  3.43  3.57  4.05  4.51  3.4   3.79\n",
            "  3.81  3.92  3.48  3.38  3.95  4.61  3.34  3.02  2.69  3.5   3.97  3.85\n",
            "   nan  3.77  3.53  9.33  4.14  4.12  3.2   3.93  3.52  2.55  9.    2.97\n",
            "  4.1   3.39  3.17  9.5   3.25  2.8   2.91  2.75  4.41  3.72  3.94  1.67\n",
            "  4.37  3.69  3.26  3.49  2.49  2.84  4.07  3.35  3.54  3.21  3.42  9.6\n",
            "  3.28 10.    3.51  3.29  2.72  3.64  2.98  3.44  1.92  2.86  3.14]\n",
            "\n",
            "------------------------------\n",
            "Columns -> members\n",
            "[200630 793665 114262 ...  27411  57355    652]\n",
            "\n",
            "------------------------------\n"
          ]
        },
        {
          "output_type": "execute_result",
          "data": {
            "text/plain": [
              "[None, None, None, None, None, None, None]"
            ]
          },
          "metadata": {},
          "execution_count": 60
        }
      ]
    },
    {
      "cell_type": "markdown",
      "source": [
        "Nilai unik pada kolom\n",
        "\n",
        "\n",
        "\n",
        "*    anime_id: Berisi ID unik untuk setiap anime dalam dataset.\n",
        "*   name: Berisi nama-nama anime yang berbeda dalam dataset.\n",
        "* genre: Berisi genre-genre anime yang ada. Beberapa anime dapat memiliki beberapa genre yang dipisahkan oleh koma.\n",
        "* type: Menunjukkan jenis anime, seperti Movie, TV series, OVA, Special, Music, atau ONA. Terdapat juga nilai \"nan\"\n",
        "* episodes: Menunjukkan jumlah episode untuk setiap anime. Terdapat juga nilai 'Unknown'.\n",
        "* rating: Menunjukkan rating untuk setiap anime. Rating berkisar dari 1 hingga 10.\n",
        "*  members: Menunjukkan jumlah anggota yang memasukkan anime ke dalam daftar mereka.\n",
        "\n",
        "\n",
        "\n"
      ],
      "metadata": {
        "id": "eAcX8M1Jisz7"
      }
    }
  ]
}